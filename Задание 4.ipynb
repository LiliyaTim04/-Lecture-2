{
 "cells": [
  {
   "cell_type": "code",
   "execution_count": 6,
   "id": "3c1a49a3",
   "metadata": {},
   "outputs": [
    {
     "name": "stdout",
     "output_type": "stream",
     "text": [
      "450\n"
     ]
    }
   ],
   "source": [
    "a=[3, 4, 56, 100, 15, 2, 20, 30]\n",
    "p=1\n",
    "for k in a:\n",
    "    if k//3==k/3:\n",
    "        if k//5==k/5:\n",
    "            p*=k\n",
    "    \n",
    "print (p)"
   ]
  }
 ],
 "metadata": {
  "kernelspec": {
   "display_name": "Python 3 (ipykernel)",
   "language": "python",
   "name": "python3"
  },
  "language_info": {
   "codemirror_mode": {
    "name": "ipython",
    "version": 3
   },
   "file_extension": ".py",
   "mimetype": "text/x-python",
   "name": "python",
   "nbconvert_exporter": "python",
   "pygments_lexer": "ipython3",
   "version": "3.9.7"
  }
 },
 "nbformat": 4,
 "nbformat_minor": 5
}
